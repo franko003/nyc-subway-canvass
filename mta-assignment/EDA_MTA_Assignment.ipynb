{
 "cells": [
  {
   "cell_type": "markdown",
   "metadata": {},
   "source": [
    "### Exploratory Data Analysis with Python\n",
    "\n",
    "We will explore the NYC MTA turnstile dataset. These data files are from the New York Subway. It tracks the hourly entries and exits to turnstiles by day in the subway system.\n",
    "\n",
    "The data files are available on MTA's [website](http://web.mta.info/developers/turnstile.html)."
   ]
  },
  {
   "cell_type": "code",
   "execution_count": null,
   "metadata": {
    "collapsed": false
   },
   "outputs": [],
   "source": [
    "!pip install wget"
   ]
  },
  {
   "cell_type": "code",
   "execution_count": 1,
   "metadata": {
    "collapsed": false
   },
   "outputs": [
    {
     "name": "stdout",
     "output_type": "stream",
     "text": [
      "161231 file downloaded\n",
      "161224 file downloaded\n",
      "161217 file downloaded\n",
      "161210 file downloaded\n"
     ]
    }
   ],
   "source": [
    "import wget\n",
    "\n",
    "url_template = \"http://web.mta.info/developers/data/nyct/turnstile/turnstile_%s.txt\"\n",
    "for date in ['161231', '161224', '161217', '161210']:\n",
    "    url = url_template % date\n",
    "    wget.download(url)\n",
    "    print(date, 'file downloaded')"
   ]
  },
  {
   "cell_type": "markdown",
   "metadata": {},
   "source": [
    "#### Our first step will be to create a dictionary of which the key will be the columns representing a turnstile (C/A, UNIT, SCP, STATION) and the value will be a list of the entries for that turnstile. It should look like so:\n",
    "\n",
    "\n",
    "        {    ('A002','R051','02-00-00','LEXINGTON AVE'):    \n",
    "             [\n",
    "               ['NQR456', 'BMT', '01/03/2015', '03:00:00', 'REGULAR', '0004945474', '0001675324'],          \n",
    "                 ['NQR456', 'BMT', '01/03/2015', '07:00:00', 'REGULAR', '0004945478', '0001675333'],  \n",
    "                ['NQR456', 'BMT', '01/03/2015', '11:00:00', 'REGULAR', '0004945515', '0001675364'],\n",
    "              ...   \n",
    "         ] \n",
    "        }\n"
   ]
  },
  {
   "cell_type": "code",
   "execution_count": null,
   "metadata": {
    "collapsed": true
   },
   "outputs": [],
   "source": [
    "import csv, glob\n",
    "from collections import defaultdict\n",
    "\n",
    "def read_csv(csv_file_name):\n",
    "    turnstile_to_count_reading = defaultdict(list)\n",
    "    with open(csv_file_name, 'r') as csv_file:\n",
    "        mta_reader = csv.reader(csv_file)\n",
    "        for i, row in enumerate(mta_reader):\n",
    "            if i == 0:\n",
    "                continue\n",
    "                \n",
    "            turnstile_info = tuple(row[:4])\n",
    "            count_reading = row[4:]\n",
    "            turnstile_to_count_reading[turnstile_info].append(count_reading)\n",
    "            \n",
    "    return turnstile_to_count_reading"
   ]
  },
  {
   "cell_type": "code",
   "execution_count": null,
   "metadata": {
    "collapsed": false
   },
   "outputs": [],
   "source": [
    "weekly_data_dicts = [read_csv(csvfile) for csvfile in glob.glob('data/turnstile_*.txt')]\n",
    "sample_dict = list(weekly_data_dicts[0].items())[:2]\n",
    "sample_dict"
   ]
  },
  {
   "cell_type": "markdown",
   "metadata": {},
   "source": [
    "## Exercise 2\n",
    "- Let's turn this into a time series.\n",
    "\n",
    " For each key (basically the control area, unit, device address and station of a specific turnstile), have a list again, but let the list be comprised of just the point in time and the cumulative count of entries.\n",
    "\n",
    "This basically means keeping only the date, time, and entries fields in each list. You can convert the date and time into datetime objects -- That is a python class that represents a point in time. You can combine the date and time fields into a string and use the [dateutil](https://dateutil.readthedocs.io/en/stable/) module to convert it into a datetime object.\n",
    "\n",
    "Your new dict should look something like\n",
    " \n",
    "    {    ('A002','R051','02-00-00','LEXINGTON AVE'):    \n",
    "             [\n",
    "                [datetime.datetime(2013, 3, 2, 3, 0), 3788],\n",
    "                [datetime.datetime(2013, 3, 2, 7, 0), 2585],\n",
    "                [datetime.datetime(2013, 3, 2, 12, 0), 10653],\n",
    "                [datetime.datetime(2013, 3, 2, 17, 0), 11016],\n",
    "                [datetime.datetime(2013, 3, 2, 23, 0), 10666],\n",
    "                [datetime.datetime(2013, 3, 3, 3, 0), 10814],\n",
    "                [datetime.datetime(2013, 3, 3, 7, 0), 10229],\n",
    "                ...\n",
    "              ],\n",
    "     ....\n",
    "     }\n",
    "\n"
   ]
  },
  {
   "cell_type": "code",
   "execution_count": null,
   "metadata": {
    "collapsed": false
   },
   "outputs": [],
   "source": [
    "from datetime import datetime\n",
    "from dateutil.parser import parse\n",
    "\n",
    "def convert_week_data_to_time_series(week_data_dict):\n",
    "    turnstile_to_time_series = defaultdict(list)\n",
    "    for i, (turnstile, row_data) in enumerate(week_data_dict.items()):\n",
    "        if i % 200 == 0:\n",
    "            print('Processing turnstile', turnstile)\n",
    "        for lines, division, datestr, timestr, event, cum_entries, cum_exits in row_data:\n",
    "            timestamp = parse('%sT%s' % (datestr, timestr))\n",
    "            turnstile_to_time_series[turnstile].append([timestamp, int(cum_entries)])\n",
    "            \n",
    "    return turnstile_to_time_series"
   ]
  },
  {
   "cell_type": "code",
   "execution_count": null,
   "metadata": {
    "collapsed": false,
    "scrolled": true
   },
   "outputs": [],
   "source": [
    "weekly_time_series = list(map(convert_week_data_to_time_series, weekly_data_dicts))"
   ]
  },
  {
   "cell_type": "code",
   "execution_count": null,
   "metadata": {
    "collapsed": false,
    "scrolled": true
   },
   "outputs": [],
   "source": [
    "sample_turnstile_to_time_series = list(weekly_time_series[0].items())[:2]\n",
    "sample_turnstile_to_time_series"
   ]
  },
  {
   "cell_type": "markdown",
   "metadata": {},
   "source": [
    "## Exercise 3\n",
    "- These counts are cumulative every n hours. We want total daily entries. \n",
    "\n",
    "Now make it that we again have the same keys, but now we have a single value for a single day, which is not cumulative counts but the total number of passengers that entered through this turnstile on this day.\n"
   ]
  },
  {
   "cell_type": "code",
   "execution_count": null,
   "metadata": {
    "collapsed": false
   },
   "outputs": [],
   "source": [
    "def combine_multiple_weeks_into_single_high_res_timeseries(weekly_time_series):\n",
    "    combined_time_series = defaultdict(list)\n",
    "    for turnstile_to_weeklong_time_series in weekly_time_series:\n",
    "        for turnstile, weeklong_time_series in turnstile_to_weeklong_time_series.items():\n",
    "            combined_time_series[turnstile] += weeklong_time_series\n",
    "    # It's already sorted due to the nature of the files but if not you would want to sort\n",
    "    # the dates first before retiurning it\n",
    "    return combined_time_series\n",
    "\n",
    "\n",
    "turnstile_to_full_time_series = combine_multiple_weeks_into_single_high_res_timeseries(weekly_time_series)"
   ]
  },
  {
   "cell_type": "code",
   "execution_count": null,
   "metadata": {
    "collapsed": true
   },
   "outputs": [],
   "source": [
    "from itertools import groupby\n",
    "\n",
    "def count_within_normal_bounds(count):\n",
    "    if count is None:\n",
    "        return True\n",
    "    else:\n",
    "        return 10000 > count >= 0\n",
    "\n",
    "def convert_time_series_to_daily(high_res_time_series):\n",
    "    daily_time_series = []\n",
    "    # I can define a function WITHIN another function. It will only\n",
    "    # be defined within the scope of the mother function\n",
    "    def day_of_timestamp(time_series_entry):\n",
    "        timestamp, tot_entries = time_series_entry\n",
    "        # the .date() method of a datetime object returns the day\n",
    "        #(as another datetime object)\n",
    "        return timestamp.date()\n",
    "    # groupby() requires data to be sorted. It is sorted already here,\n",
    "    # but if it wasn't, we would have to sort it first\n",
    "    count_on_previous_day = None\n",
    "    for day, entries_on_this_day in groupby(high_res_time_series,\n",
    "                                                      key=day_of_timestamp):\n",
    "        # get the maximum cumulative count among the entries on this day\n",
    "        cum_entry_count_on_day = max([count for time, count in entries_on_this_day])\n",
    "        # skip the first entry if we don't know the previous day\n",
    "        if count_on_previous_day is None:\n",
    "            daily_entries = None\n",
    "        else:\n",
    "            daily_entries = cum_entry_count_on_day - count_on_previous_day\n",
    "        # Save today's count for tomorrow's calculation\n",
    "        count_on_previous_day = cum_entry_count_on_day\n",
    "        # Only append if the cumulative increased. Otherwise there is something wrong in the data\n",
    "        # skip with a warning\n",
    "        if count_within_normal_bounds(daily_entries):\n",
    "            daily_time_series.append( (day, daily_entries) )\n",
    "        else:\n",
    "            print ('WARNING. Abnormal entry count found '\n",
    "                   'on day %s: %s' % (day, daily_entries))\n",
    "            daily_time_series.append( (day, None) )\n",
    "\n",
    "    return daily_time_series\n",
    "\n",
    "\n",
    "def convert_turnstile_to_high_res_time_series_to_daily(turnstile_to_time_series):\n",
    "    turnstile_to_daily_time_series = {}\n",
    "    for i, (turnstile, time_series) in enumerate(turnstile_to_time_series.items()):\n",
    "        print('Processing turnstile', turnstile)\n",
    "        turnstile_to_daily_time_series[turnstile] = convert_time_series_to_daily(time_series)\n",
    "    return turnstile_to_daily_time_series\n",
    "\n",
    "\n",
    "turnstile_to_daily_time_series = convert_turnstile_to_high_res_time_series_to_daily(turnstile_to_full_time_series)"
   ]
  },
  {
   "cell_type": "code",
   "execution_count": null,
   "metadata": {
    "collapsed": false,
    "scrolled": true
   },
   "outputs": [],
   "source": [
    "turnstile_to_daily_time_series[('H001', 'R175', '00-06-01', '8 AV')]"
   ]
  },
  {
   "cell_type": "markdown",
   "metadata": {},
   "source": [
    "## Exercise 4\n",
    "- We will plot the daily time series for a turnstile.\n",
    "\n",
    "In ipython notebook, add this to the beginning of your next cell:    \n",
    "\n",
    "    %matplotlib inline\n",
    "\n",
    "This will make your matplotlib graphs integrate nicely with the notebook.\n",
    "To plot the time series, import matplotlib with \n",
    "\n",
    "    import matplotlib.pyplot as plt\n",
    "\n",
    "Take the list of [(date1, count1), (date2, count2), ...], for the turnstile and turn it into two lists:\n",
    "dates and counts. This should plot it:\n",
    "\n",
    "    plt.figure(figsize=(10,3))\n",
    "    plt.plot(dates,counts)\n"
   ]
  },
  {
   "cell_type": "code",
   "execution_count": null,
   "metadata": {
    "collapsed": false
   },
   "outputs": [],
   "source": [
    "%matplotlib inline\n",
    "import matplotlib.pyplot as plt\n",
    "\n",
    "time_series = turnstile_to_daily_time_series[('H001', 'R175', '00-06-01', '8 AV')]\n",
    "days, counts = zip(*time_series)\n",
    "plt.figure(figsize=(15,5))\n",
    "plt.plot(days, counts)"
   ]
  },
  {
   "cell_type": "markdown",
   "metadata": {},
   "source": [
    "## Exercise 5\n",
    "- So far we've been operating on a single turnstile level, let's combine turnstiles in the same ControlArea/Unit/Station combo. There are some ControlArea/Unit/Station groups that have a single turnstile, but most have multiple turnstilea-- same value for the C/A, UNIT and STATION columns, different values for the SCP column.\n",
    "\n",
    "We want to combine the numbers together -- for each ControlArea/UNIT/STATION combo, for each day, add the counts from each turnstile belonging to that combo.\n"
   ]
  },
  {
   "cell_type": "code",
   "execution_count": null,
   "metadata": {
    "collapsed": false
   },
   "outputs": [],
   "source": [
    "from collections import Counter\n",
    "\n",
    "def booth_of_a_time_series_item(item):\n",
    "    turnstile, time_series = item\n",
    "    control_area, unit, device_id, station = turnstile\n",
    "    return (control_area, unit, station)\n",
    "\n",
    "def reduce_turnstile_time_series_to_booths(turnstile_to_daily_time_series):\n",
    "    turnstile_time_series_items = sorted(turnstile_to_daily_time_series.items())\n",
    "    booth_to_time_series = {}\n",
    "    \n",
    "    for booth, item_list_of_booth in groupby(turnstile_time_series_items, key=booth_of_a_time_series_item):\n",
    "        daily_counter = Counter()\n",
    "        for turnstile, time_series in item_list_of_booth:\n",
    "            for day, count in time_series:\n",
    "                if count is not None:\n",
    "                    daily_counter[day] += count\n",
    "        \n",
    "        booth_to_time_series[booth] = sorted(daily_counter.items())\n",
    "        \n",
    "    return booth_to_time_series\n",
    "\n",
    "booth_to_daily_time_series = reduce_turnstile_time_series_to_booths(turnstile_to_daily_time_series)"
   ]
  },
  {
   "cell_type": "code",
   "execution_count": null,
   "metadata": {
    "collapsed": false,
    "scrolled": true
   },
   "outputs": [],
   "source": [
    "booth_to_daily_time_series[('H001', 'R175', '8 AV')]"
   ]
  },
  {
   "cell_type": "markdown",
   "metadata": {},
   "source": [
    "## Exercise 6\n",
    "- Similarly, combine everything in each station, and come up with a time series of `[(date1, count1),(date2,count2),...]` type of time series for each STATION, by adding up all the turnstiles in a station."
   ]
  },
  {
   "cell_type": "code",
   "execution_count": null,
   "metadata": {
    "collapsed": false
   },
   "outputs": [],
   "source": [
    "def station_of_a_booth(booth):\n",
    "    control_area, unit, station = booth\n",
    "    return station\n",
    "\n",
    "def station_of_a_time_series_item(item):\n",
    "    booth, time_series = item\n",
    "    return station_of_a_booth(booth)\n",
    "\n",
    "def reduce_booth_time_series_to_stations(booth_to_daily_time_series):\n",
    "    booth_time_series_items = sorted(booth_to_daily_time_series.items())\n",
    "    station_to_time_series = {}\n",
    "    for station, item_list_of_station in groupby(booth_time_series_items,\n",
    "                                             key=station_of_a_time_series_item):\n",
    "        daily_counter = Counter()\n",
    "        for turnstile, time_series in item_list_of_station:\n",
    "            for day, count in time_series:\n",
    "                daily_counter[day] += count\n",
    "        station_to_time_series[station] = sorted(daily_counter.items())\n",
    "    return station_to_time_series\n",
    "\n",
    "\n",
    "station_to_daily_time_series = reduce_booth_time_series_to_stations(booth_to_daily_time_series)"
   ]
  },
  {
   "cell_type": "code",
   "execution_count": null,
   "metadata": {
    "collapsed": false
   },
   "outputs": [],
   "source": [
    "station_to_daily_time_series['8 AV']"
   ]
  },
  {
   "cell_type": "markdown",
   "metadata": {},
   "source": [
    "## Exercise 7\n",
    "- Plot the time series for a station"
   ]
  },
  {
   "cell_type": "code",
   "execution_count": null,
   "metadata": {
    "collapsed": false
   },
   "outputs": [],
   "source": [
    "def plot_station_time_series(station_name, station_to_daily_time_series):\n",
    "    time_series = station_to_daily_time_series[station_name]\n",
    "    days, counts = zip(*time_series)\n",
    "    plt.figure(figsize=(15,5))\n",
    "    plt.plot(days,counts)\n",
    "    plt.xlabel('Date')\n",
    "    plt.ylabel('Number of turnstile entries')\n",
    "    plt.title('Daily entries for station %s' % station_name)\n",
    "    \n",
    "plot_station_time_series('8 AV', station_to_daily_time_series)"
   ]
  },
  {
   "cell_type": "markdown",
   "metadata": {},
   "source": [
    "## Exercise 8\n",
    "- Make one list of counts for **one** week for one station. Monday's count, Tuesday's count, etc. so it's a list of 7 counts.\n",
    "Make the same list for another week, and another week, and another week.\n",
    "`plt.plot(week_count_list)` for every `week_count_list` you created this way. You should get a rainbow plot of weekly commute numbers on top of each other.\n",
    "\n"
   ]
  },
  {
   "cell_type": "code",
   "execution_count": null,
   "metadata": {
    "collapsed": false
   },
   "outputs": [],
   "source": [
    "import numpy as np\n",
    "\n",
    "def separate_weeks(time_series):\n",
    "    time_series_for_each_week = []\n",
    "    week = []\n",
    "    for i, (day, count) in enumerate(time_series):\n",
    "        week.append( (day,count) )\n",
    "        # every 7 days, start a new week\n",
    "        # (do this on the last day of the current week)\n",
    "        if i%7 == 6:\n",
    "            time_series_for_each_week.append(week)\n",
    "            week = []\n",
    "    # at the end of the for loop, if there are some left\n",
    "    # over, put this partial week as the last (partial) week\n",
    "    time_series_for_each_week.append(week)\n",
    "    return time_series_for_each_week\n",
    "\n",
    "\n",
    "def rainbow_plot_for_station(station_name, station_to_daily_time_series):\n",
    "    time_series = station_to_daily_time_series[station_name]\n",
    "    time_series_for_each_week = separate_weeks(time_series)\n",
    "    plt.figure(figsize=(15,5))\n",
    "    for week in time_series_for_each_week:\n",
    "        days, counts = zip(*week)\n",
    "        days = range(len(counts))\n",
    "        plt.plot(days,counts)\n",
    "    plt.xlabel('Day of the week')\n",
    "    plt.ylabel('Number of turnstile entries')\n",
    "    plt.xticks(np.arange(7),['St','Sn','Mo','Tu','We','Th','Fr'])\n",
    "    plt.title('Ridership per day for station %s'%station_name)\n",
    "\n",
    "    \n",
    "rainbow_plot_for_station('8 AV', station_to_daily_time_series)\n"
   ]
  },
  {
   "cell_type": "markdown",
   "metadata": {},
   "source": [
    "## Exercise 9\n",
    "- Over multiple weeks, sum total ridership for each station and sort them, so you can find out the stations with the highest traffic during the time you investigate"
   ]
  },
  {
   "cell_type": "code",
   "execution_count": null,
   "metadata": {
    "collapsed": false
   },
   "outputs": [],
   "source": [
    "def station_time_series_item_to_station_total_traffic(item):\n",
    "    station, time_series = item\n",
    "    total_traffic = sum([count for day, count in time_series])\n",
    "    return total_traffic, station\n",
    "\n",
    "traffic_report = list(map(station_time_series_item_to_station_total_traffic, station_to_daily_time_series.items()))\n",
    "\n",
    "for total_traffic, station in sorted(traffic_report, reverse=True)[:30]:\n",
    "    print('{:<18} {}'.format(station, total_traffic))"
   ]
  },
  {
   "cell_type": "markdown",
   "metadata": {},
   "source": [
    "## Exercise 10\n",
    "- Make a single list of these total ridership values and plot it with `plt.hist(total_ridership_counts)` to get an idea about the distribution of total ridership among different stations.   \n",
    "This should show you that most stations have a small traffic, and the histogram bins for large traffic volumes have small bars.\n",
    "\n",
    "*Additional Hint*:    \n",
    "If you want to see which stations take the meat of the traffic, you can sort the total ridership counts and make a `plt.bar` graph. For this, you want to have two lists: the indices of each bar, and the values. The indices can just be `0,1,2,3,...`, so you can do \n",
    "\n",
    "    indices = range(len(total_ridership_values))\n",
    "    plt.bar(indices, total_ridership_values)\n",
    "\n",
    "    "
   ]
  },
  {
   "cell_type": "code",
   "execution_count": null,
   "metadata": {
    "collapsed": false
   },
   "outputs": [],
   "source": [
    "total_ridership_counts = [ridership for ridership, station in traffic_report]\n",
    "plt.figure(figsize=(15, 5))\n",
    "hist = plt.hist(total_ridership_counts, bins=20)"
   ]
  },
  {
   "cell_type": "code",
   "execution_count": null,
   "metadata": {
    "collapsed": false
   },
   "outputs": [],
   "source": [
    "import math\n",
    "\n",
    "log_counts = []\n",
    "\n",
    "for count in total_ridership_counts:\n",
    "    try:\n",
    "        log_result = math.log10(count)\n",
    "    except:\n",
    "        pass\n",
    "    \n",
    "    log_counts.append(log_result)\n",
    "    \n",
    "plt.figure(figsize=(15, 5))\n",
    "n, bins, patches = hist = plt.hist(log_counts, bins=15)\n",
    "\n",
    "def log_count_to_label(log_count):\n",
    "    if log_count <= 6:\n",
    "        return '{0:.0f} Thousand'.format(10 ** (log_count-3))\n",
    "    else:\n",
    "        return '{0:.1f} Million'.format(10 ** (log_count-6))\n",
    "\n",
    "tick_labels = map(log_count_to_label, bins)\n",
    "ticks = plt.xticks(bins, tick_labels, rotation=70)\n",
    "plt.xlabel('Total Ridership Count (log 10)')\n",
    "plt.ylabel('Number of Stations with this Total Count')\n",
    "plt.title('Distribution of ridership among NYC Subway Stations')"
   ]
  },
  {
   "cell_type": "code",
   "execution_count": null,
   "metadata": {
    "collapsed": false
   },
   "outputs": [],
   "source": [
    "top_stations = sorted(traffic_report, reverse=True)[:30]\n",
    "counts, stations = zip(*top_stations)\n",
    "indices = range(len(counts))\n",
    "plt.figure(figsize=(15,5,))\n",
    "plt.bar(indices, counts)\n",
    "ticks = plt.xticks(indices, stations, rotation = 70)"
   ]
  }
 ],
 "metadata": {
  "anaconda-cloud": {},
  "kernelspec": {
   "display_name": "Python [conda root]",
   "language": "python",
   "name": "conda-root-py"
  },
  "language_info": {
   "codemirror_mode": {
    "name": "ipython",
    "version": 3
   },
   "file_extension": ".py",
   "mimetype": "text/x-python",
   "name": "python",
   "nbconvert_exporter": "python",
   "pygments_lexer": "ipython3",
   "version": "3.5.2"
  }
 },
 "nbformat": 4,
 "nbformat_minor": 0
}
