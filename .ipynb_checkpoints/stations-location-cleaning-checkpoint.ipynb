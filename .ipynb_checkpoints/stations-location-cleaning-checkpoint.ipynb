{
 "cells": [
  {
   "cell_type": "code",
   "execution_count": 1,
   "metadata": {
    "collapsed": false
   },
   "outputs": [
    {
     "data": {
      "text/html": [
       "<div>\n",
       "<table border=\"1\" class=\"dataframe\">\n",
       "  <thead>\n",
       "    <tr style=\"text-align: right;\">\n",
       "      <th></th>\n",
       "      <th>URL</th>\n",
       "      <th>OBJECTID</th>\n",
       "      <th>NAME</th>\n",
       "      <th>the_geom</th>\n",
       "      <th>LINE</th>\n",
       "      <th>NOTES</th>\n",
       "    </tr>\n",
       "  </thead>\n",
       "  <tbody>\n",
       "    <tr>\n",
       "      <th>0</th>\n",
       "      <td>http://web.mta.info/nyct/service/</td>\n",
       "      <td>1</td>\n",
       "      <td>Astor Pl</td>\n",
       "      <td>POINT (-73.99106999861966 40.73005400028978)</td>\n",
       "      <td>4-6-6 Express</td>\n",
       "      <td>4 nights, 6-all times, 6 Express-weekdays AM s...</td>\n",
       "    </tr>\n",
       "    <tr>\n",
       "      <th>1</th>\n",
       "      <td>http://web.mta.info/nyct/service/</td>\n",
       "      <td>2</td>\n",
       "      <td>Canal St</td>\n",
       "      <td>POINT (-74.00019299927328 40.71880300107709)</td>\n",
       "      <td>4-6-6 Express</td>\n",
       "      <td>4 nights, 6-all times, 6 Express-weekdays AM s...</td>\n",
       "    </tr>\n",
       "    <tr>\n",
       "      <th>2</th>\n",
       "      <td>http://web.mta.info/nyct/service/</td>\n",
       "      <td>3</td>\n",
       "      <td>50th St</td>\n",
       "      <td>POINT (-73.98384899986625 40.76172799961419)</td>\n",
       "      <td>1-2</td>\n",
       "      <td>1-all times, 2-nights</td>\n",
       "    </tr>\n",
       "    <tr>\n",
       "      <th>3</th>\n",
       "      <td>http://web.mta.info/nyct/service/</td>\n",
       "      <td>4</td>\n",
       "      <td>Bergen St</td>\n",
       "      <td>POINT (-73.97499915116808 40.68086213682956)</td>\n",
       "      <td>2-3-4</td>\n",
       "      <td>4-nights, 3-all other times, 2-all times</td>\n",
       "    </tr>\n",
       "  </tbody>\n",
       "</table>\n",
       "</div>"
      ],
      "text/plain": [
       "                                 URL  OBJECTID       NAME  \\\n",
       "0  http://web.mta.info/nyct/service/         1   Astor Pl   \n",
       "1  http://web.mta.info/nyct/service/         2   Canal St   \n",
       "2  http://web.mta.info/nyct/service/         3    50th St   \n",
       "3  http://web.mta.info/nyct/service/         4  Bergen St   \n",
       "\n",
       "                                       the_geom           LINE  \\\n",
       "0  POINT (-73.99106999861966 40.73005400028978)  4-6-6 Express   \n",
       "1  POINT (-74.00019299927328 40.71880300107709)  4-6-6 Express   \n",
       "2  POINT (-73.98384899986625 40.76172799961419)            1-2   \n",
       "3  POINT (-73.97499915116808 40.68086213682956)          2-3-4   \n",
       "\n",
       "                                               NOTES  \n",
       "0  4 nights, 6-all times, 6 Express-weekdays AM s...  \n",
       "1  4 nights, 6-all times, 6 Express-weekdays AM s...  \n",
       "2                              1-all times, 2-nights  \n",
       "3           4-nights, 3-all other times, 2-all times  "
      ]
     },
     "execution_count": 1,
     "metadata": {},
     "output_type": "execute_result"
    }
   ],
   "source": [
    "# https://data.cityofnewyork.us/Transportation/Subway-Stations/arq3-7z49\n",
    "\n",
    "import pandas as pd\n",
    "\n",
    "stations = pd.read_csv('data/DOITT_SUBWAY_STATION_01_13SEPT2010.csv')\n",
    "stations.head(4)"
   ]
  },
  {
   "cell_type": "code",
   "execution_count": 7,
   "metadata": {
    "collapsed": true
   },
   "outputs": [],
   "source": [
    "def add_coord_columns(dataframe, condensed_column, sep=', '):\n",
    "    coord_str = dataframe.apply(lambda x: x[condensed_column][x[condensed_column].find(\"(\") + 1 : \\\n",
    "                                                              x[condensed_column].find(\")\")], \\\n",
    "                                axis='columns')\n",
    "\n",
    "    dataframe['longitude'] = coord_str.apply(lambda x: x[ : x.find(sep)]).astype(float)\n",
    "    dataframe['latitude'] = coord_str.apply(lambda x: x[x.find(sep) + 1 : ]).astype(float)"
   ]
  },
  {
   "cell_type": "code",
   "execution_count": 8,
   "metadata": {
    "collapsed": false
   },
   "outputs": [
    {
     "data": {
      "text/html": [
       "<div>\n",
       "<table border=\"1\" class=\"dataframe\">\n",
       "  <thead>\n",
       "    <tr style=\"text-align: right;\">\n",
       "      <th></th>\n",
       "      <th>latitude</th>\n",
       "      <th>longitude</th>\n",
       "    </tr>\n",
       "  </thead>\n",
       "  <tbody>\n",
       "    <tr>\n",
       "      <th>0</th>\n",
       "      <td>40.730054</td>\n",
       "      <td>-73.991070</td>\n",
       "    </tr>\n",
       "    <tr>\n",
       "      <th>1</th>\n",
       "      <td>40.718803</td>\n",
       "      <td>-74.000193</td>\n",
       "    </tr>\n",
       "    <tr>\n",
       "      <th>2</th>\n",
       "      <td>40.761728</td>\n",
       "      <td>-73.983849</td>\n",
       "    </tr>\n",
       "    <tr>\n",
       "      <th>3</th>\n",
       "      <td>40.680862</td>\n",
       "      <td>-73.974999</td>\n",
       "    </tr>\n",
       "    <tr>\n",
       "      <th>4</th>\n",
       "      <td>40.664714</td>\n",
       "      <td>-73.894886</td>\n",
       "    </tr>\n",
       "  </tbody>\n",
       "</table>\n",
       "</div>"
      ],
      "text/plain": [
       "    latitude  longitude\n",
       "0  40.730054 -73.991070\n",
       "1  40.718803 -74.000193\n",
       "2  40.761728 -73.983849\n",
       "3  40.680862 -73.974999\n",
       "4  40.664714 -73.894886"
      ]
     },
     "execution_count": 8,
     "metadata": {},
     "output_type": "execute_result"
    }
   ],
   "source": [
    "add_coord_columns(stations, 'the_geom', sep=' ')\n",
    "stations.loc[:, ('latitude', 'longitude')].head()"
   ]
  },
  {
   "cell_type": "code",
   "execution_count": 9,
   "metadata": {
    "collapsed": false
   },
   "outputs": [
    {
     "data": {
      "text/html": [
       "<div>\n",
       "<table border=\"1\" class=\"dataframe\">\n",
       "  <thead>\n",
       "    <tr style=\"text-align: right;\">\n",
       "      <th></th>\n",
       "      <th>station</th>\n",
       "      <th>latitude</th>\n",
       "      <th>longitude</th>\n",
       "      <th>lines</th>\n",
       "      <th>notes</th>\n",
       "    </tr>\n",
       "  </thead>\n",
       "  <tbody>\n",
       "    <tr>\n",
       "      <th>158</th>\n",
       "      <td>103rd St</td>\n",
       "      <td>40.799446</td>\n",
       "      <td>-73.968379</td>\n",
       "      <td>1</td>\n",
       "      <td>1-all times</td>\n",
       "    </tr>\n",
       "    <tr>\n",
       "      <th>160</th>\n",
       "      <td>103rd St</td>\n",
       "      <td>40.796061</td>\n",
       "      <td>-73.961370</td>\n",
       "      <td>A-B-C</td>\n",
       "      <td>A-nights, B-weekdays and evenings, C-all times...</td>\n",
       "    </tr>\n",
       "    <tr>\n",
       "      <th>457</th>\n",
       "      <td>103rd St</td>\n",
       "      <td>40.790600</td>\n",
       "      <td>-73.947478</td>\n",
       "      <td>4-6-6 Express</td>\n",
       "      <td>4 nights, 6-all times, 6 Express-weekdays AM s...</td>\n",
       "    </tr>\n",
       "    <tr>\n",
       "      <th>188</th>\n",
       "      <td>103rd St - Corona Plaza</td>\n",
       "      <td>40.749865</td>\n",
       "      <td>-73.862700</td>\n",
       "      <td>7</td>\n",
       "      <td>7-all times</td>\n",
       "    </tr>\n",
       "    <tr>\n",
       "      <th>97</th>\n",
       "      <td>104th St</td>\n",
       "      <td>40.681711</td>\n",
       "      <td>-73.837683</td>\n",
       "      <td>A-S</td>\n",
       "      <td>S Euclid Av to Ozone Park-Lefferts Blvd-nights...</td>\n",
       "    </tr>\n",
       "  </tbody>\n",
       "</table>\n",
       "</div>"
      ],
      "text/plain": [
       "                     station   latitude  longitude          lines  \\\n",
       "158                 103rd St  40.799446 -73.968379              1   \n",
       "160                 103rd St  40.796061 -73.961370          A-B-C   \n",
       "457                 103rd St  40.790600 -73.947478  4-6-6 Express   \n",
       "188  103rd St - Corona Plaza  40.749865 -73.862700              7   \n",
       "97                  104th St  40.681711 -73.837683            A-S   \n",
       "\n",
       "                                                 notes  \n",
       "158                                        1-all times  \n",
       "160  A-nights, B-weekdays and evenings, C-all times...  \n",
       "457  4 nights, 6-all times, 6 Express-weekdays AM s...  \n",
       "188                                        7-all times  \n",
       "97   S Euclid Av to Ozone Park-Lefferts Blvd-nights...  "
      ]
     },
     "execution_count": 9,
     "metadata": {},
     "output_type": "execute_result"
    }
   ],
   "source": [
    "stations.rename(columns={'NAME': 'station', 'LINE': 'lines', 'NOTES': 'notes'}, inplace=True)\n",
    "relevant_cols = ['station', 'latitude', 'longitude', 'lines', 'notes']\n",
    "df_to_pickle = stations.loc[:, relevant_cols]\n",
    "\n",
    "df_to_pickle.sort_values(by='station', inplace=True)\n",
    "df_to_pickle.head()"
   ]
  },
  {
   "cell_type": "code",
   "execution_count": 10,
   "metadata": {
    "collapsed": true
   },
   "outputs": [],
   "source": [
    "df_to_pickle.to_pickle('pickle/stations_locations.p')"
   ]
  }
 ],
 "metadata": {
  "anaconda-cloud": {},
  "kernelspec": {
   "display_name": "Python [default]",
   "language": "python",
   "name": "python3"
  },
  "language_info": {
   "codemirror_mode": {
    "name": "ipython",
    "version": 3
   },
   "file_extension": ".py",
   "mimetype": "text/x-python",
   "name": "python",
   "nbconvert_exporter": "python",
   "pygments_lexer": "ipython3",
   "version": "3.5.2"
  }
 },
 "nbformat": 4,
 "nbformat_minor": 1
}
