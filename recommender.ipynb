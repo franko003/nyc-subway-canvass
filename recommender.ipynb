{
 "cells": [
  {
   "cell_type": "code",
   "execution_count": 31,
   "metadata": {
    "collapsed": false
   },
   "outputs": [
    {
     "data": {
      "text/html": [
       "<div>\n",
       "<table border=\"1\" class=\"dataframe\">\n",
       "  <thead>\n",
       "    <tr style=\"text-align: right;\">\n",
       "      <th></th>\n",
       "      <th>school_name</th>\n",
       "      <th>potential_college_students</th>\n",
       "      <th>latitude</th>\n",
       "      <th>longitude</th>\n",
       "      <th>start_time</th>\n",
       "      <th>end_time</th>\n",
       "      <th>subway_lines</th>\n",
       "    </tr>\n",
       "    <tr>\n",
       "      <th>dbn</th>\n",
       "      <th></th>\n",
       "      <th></th>\n",
       "      <th></th>\n",
       "      <th></th>\n",
       "      <th></th>\n",
       "      <th></th>\n",
       "      <th></th>\n",
       "    </tr>\n",
       "  </thead>\n",
       "  <tbody>\n",
       "    <tr>\n",
       "      <th>13K430</th>\n",
       "      <td>Brooklyn Technical High School</td>\n",
       "      <td>5323</td>\n",
       "      <td>40.688896</td>\n",
       "      <td>-73.976435</td>\n",
       "      <td>8:45am</td>\n",
       "      <td>3:15pm</td>\n",
       "      <td>D, N to Atlantic Ave  Barclays Center; G to F...</td>\n",
       "    </tr>\n",
       "    <tr>\n",
       "      <th>22K405</th>\n",
       "      <td>Midwood High School</td>\n",
       "      <td>3176</td>\n",
       "      <td>40.632829</td>\n",
       "      <td>-73.952356</td>\n",
       "      <td>8:45am</td>\n",
       "      <td>3:30pm</td>\n",
       "      <td>2, 5 to Flatbush Ave    Brooklyn College</td>\n",
       "    </tr>\n",
       "    <tr>\n",
       "      <th>10X445</th>\n",
       "      <td>Bronx High School of Science</td>\n",
       "      <td>2976</td>\n",
       "      <td>40.879958</td>\n",
       "      <td>-73.889011</td>\n",
       "      <td>8am</td>\n",
       "      <td>3:45pm</td>\n",
       "      <td>4 to Bedford Park Blvd - Lehman College ; B, D...</td>\n",
       "    </tr>\n",
       "    <tr>\n",
       "      <th>21K525</th>\n",
       "      <td>Edward R. Murrow High School</td>\n",
       "      <td>2754</td>\n",
       "      <td>40.619671</td>\n",
       "      <td>-73.959141</td>\n",
       "      <td>8:05am</td>\n",
       "      <td>2:45pm</td>\n",
       "      <td>Q to Ave M</td>\n",
       "    </tr>\n",
       "    <tr>\n",
       "      <th>03M485</th>\n",
       "      <td>Fiorello H. LaGuardia High School of Music &amp; A...</td>\n",
       "      <td>2295</td>\n",
       "      <td>40.774202</td>\n",
       "      <td>-73.985976</td>\n",
       "      <td>8am</td>\n",
       "      <td>4pm</td>\n",
       "      <td>1 to 66th St - Lincoln Center ; 2, A, B, C, D ...</td>\n",
       "    </tr>\n",
       "  </tbody>\n",
       "</table>\n",
       "</div>"
      ],
      "text/plain": [
       "                                              school_name  \\\n",
       "dbn                                                         \n",
       "13K430                     Brooklyn Technical High School   \n",
       "22K405                                Midwood High School   \n",
       "10X445                       Bronx High School of Science   \n",
       "21K525                       Edward R. Murrow High School   \n",
       "03M485  Fiorello H. LaGuardia High School of Music & A...   \n",
       "\n",
       "        potential_college_students   latitude  longitude start_time end_time  \\\n",
       "dbn                                                                            \n",
       "13K430                        5323  40.688896 -73.976435     8:45am   3:15pm   \n",
       "22K405                        3176  40.632829 -73.952356     8:45am   3:30pm   \n",
       "10X445                        2976  40.879958 -73.889011        8am   3:45pm   \n",
       "21K525                        2754  40.619671 -73.959141     8:05am   2:45pm   \n",
       "03M485                        2295  40.774202 -73.985976        8am      4pm   \n",
       "\n",
       "                                             subway_lines  \n",
       "dbn                                                        \n",
       "13K430  D, N to Atlantic Ave  Barclays Center; G to F...  \n",
       "22K405          2, 5 to Flatbush Ave    Brooklyn College  \n",
       "10X445  4 to Bedford Park Blvd - Lehman College ; B, D...  \n",
       "21K525                                         Q to Ave M  \n",
       "03M485  1 to 66th St - Lincoln Center ; 2, A, B, C, D ...  "
      ]
     },
     "execution_count": 31,
     "metadata": {},
     "output_type": "execute_result"
    }
   ],
   "source": [
    "import pandas as pd\n",
    "\n",
    "high_schools = pd.read_pickle('pickle/high_schools.p')\n",
    "high_schools.head()"
   ]
  },
  {
   "cell_type": "code",
   "execution_count": 35,
   "metadata": {
    "collapsed": false
   },
   "outputs": [
    {
     "data": {
      "text/html": [
       "<div>\n",
       "<table border=\"1\" class=\"dataframe\">\n",
       "  <thead>\n",
       "    <tr style=\"text-align: right;\">\n",
       "      <th></th>\n",
       "      <th>station</th>\n",
       "      <th>latitude</th>\n",
       "      <th>longitude</th>\n",
       "      <th>lines</th>\n",
       "      <th>notes</th>\n",
       "    </tr>\n",
       "  </thead>\n",
       "  <tbody>\n",
       "    <tr>\n",
       "      <th>0</th>\n",
       "      <td>Astor Pl</td>\n",
       "      <td>-73.991070</td>\n",
       "      <td>40.730054</td>\n",
       "      <td>4-6-6 Express</td>\n",
       "      <td>4 nights, 6-all times, 6 Express-weekdays AM s...</td>\n",
       "    </tr>\n",
       "    <tr>\n",
       "      <th>1</th>\n",
       "      <td>Canal St</td>\n",
       "      <td>-74.000193</td>\n",
       "      <td>40.718803</td>\n",
       "      <td>4-6-6 Express</td>\n",
       "      <td>4 nights, 6-all times, 6 Express-weekdays AM s...</td>\n",
       "    </tr>\n",
       "    <tr>\n",
       "      <th>2</th>\n",
       "      <td>50th St</td>\n",
       "      <td>-73.983849</td>\n",
       "      <td>40.761728</td>\n",
       "      <td>1-2</td>\n",
       "      <td>1-all times, 2-nights</td>\n",
       "    </tr>\n",
       "    <tr>\n",
       "      <th>3</th>\n",
       "      <td>Bergen St</td>\n",
       "      <td>-73.974999</td>\n",
       "      <td>40.680862</td>\n",
       "      <td>2-3-4</td>\n",
       "      <td>4-nights, 3-all other times, 2-all times</td>\n",
       "    </tr>\n",
       "    <tr>\n",
       "      <th>4</th>\n",
       "      <td>Pennsylvania Ave</td>\n",
       "      <td>-73.894886</td>\n",
       "      <td>40.664714</td>\n",
       "      <td>3-4</td>\n",
       "      <td>4-nights, 3-all other times</td>\n",
       "    </tr>\n",
       "  </tbody>\n",
       "</table>\n",
       "</div>"
      ],
      "text/plain": [
       "            station   latitude  longitude          lines  \\\n",
       "0          Astor Pl -73.991070  40.730054  4-6-6 Express   \n",
       "1          Canal St -74.000193  40.718803  4-6-6 Express   \n",
       "2           50th St -73.983849  40.761728            1-2   \n",
       "3         Bergen St -73.974999  40.680862          2-3-4   \n",
       "4  Pennsylvania Ave -73.894886  40.664714            3-4   \n",
       "\n",
       "                                               notes  \n",
       "0  4 nights, 6-all times, 6 Express-weekdays AM s...  \n",
       "1  4 nights, 6-all times, 6 Express-weekdays AM s...  \n",
       "2                              1-all times, 2-nights  \n",
       "3           4-nights, 3-all other times, 2-all times  \n",
       "4                        4-nights, 3-all other times  "
      ]
     },
     "execution_count": 35,
     "metadata": {},
     "output_type": "execute_result"
    }
   ],
   "source": [
    "stations_location = pd.read_pickle('pickle/stations_location.p')\n",
    "stations_location.head()"
   ]
  },
  {
   "cell_type": "code",
   "execution_count": 29,
   "metadata": {
    "collapsed": false
   },
   "outputs": [
    {
     "data": {
      "text/html": [
       "<div>\n",
       "<table border=\"1\" class=\"dataframe\">\n",
       "  <thead>\n",
       "    <tr style=\"text-align: right;\">\n",
       "      <th></th>\n",
       "      <th>station</th>\n",
       "      <th>avg_daily_traffic_feb</th>\n",
       "    </tr>\n",
       "  </thead>\n",
       "  <tbody>\n",
       "    <tr>\n",
       "      <th>0</th>\n",
       "      <td>GRD CNTRL-42 ST</td>\n",
       "      <td>158625</td>\n",
       "    </tr>\n",
       "    <tr>\n",
       "      <th>1</th>\n",
       "      <td>42 ST-PORT AUTH</td>\n",
       "      <td>112739</td>\n",
       "    </tr>\n",
       "    <tr>\n",
       "      <th>2</th>\n",
       "      <td>34 ST-PENN STA</td>\n",
       "      <td>107514</td>\n",
       "    </tr>\n",
       "    <tr>\n",
       "      <th>3</th>\n",
       "      <td>TIMES SQ-42 ST</td>\n",
       "      <td>93595</td>\n",
       "    </tr>\n",
       "    <tr>\n",
       "      <th>4</th>\n",
       "      <td>34 ST-HERALD SQ</td>\n",
       "      <td>87825</td>\n",
       "    </tr>\n",
       "  </tbody>\n",
       "</table>\n",
       "</div>"
      ],
      "text/plain": [
       "           station  avg_daily_traffic_feb\n",
       "0  GRD CNTRL-42 ST                 158625\n",
       "1  42 ST-PORT AUTH                 112739\n",
       "2   34 ST-PENN STA                 107514\n",
       "3   TIMES SQ-42 ST                  93595\n",
       "4  34 ST-HERALD SQ                  87825"
      ]
     },
     "execution_count": 29,
     "metadata": {},
     "output_type": "execute_result"
    }
   ],
   "source": [
    "stations_traffic = pd.read_pickle('pickle/stations_traffic.p')\n",
    "stations_traffic.head()"
   ]
  },
  {
   "cell_type": "code",
   "execution_count": 23,
   "metadata": {
    "collapsed": true
   },
   "outputs": [],
   "source": [
    "# http://stackoverflow.com/questions/15736995/how-can-i-quickly-estimate-the-distance-between-two-latitude-longitude-points\n",
    "\n",
    "from math import radians, cos, sin, asin, sqrt\n",
    "\n",
    "def within_800m(school_lat, school_lon, station_lat, station_lon):\n",
    "    \"\"\"\n",
    "    Calculate the great circle distance between two points \n",
    "    on the earth (specified in decimal degrees)\n",
    "    \"\"\"\n",
    "    # convert decimal degrees to radians \n",
    "    school_lat, school_lon, station_lat, station_lon  = map(radians, \n",
    "                                                            [school_lat, school_lon, station_lat, station_lon])\n",
    "    \n",
    "    # haversine formula\n",
    "    earth_radius_km = 6367\n",
    "    d_lon = station_lon - school_lon \n",
    "    d_lat = station_lat - school_lat \n",
    "    a = sin(d_lat/2)**2 + cos(school_lat) * cos(station_lat) * sin(d_lon/2)**2\n",
    "    c = 2 * asin(sqrt(a)) \n",
    "    m = earth_radius_km * 1000 * c\n",
    "    return m <= 800"
   ]
  },
  {
   "cell_type": "code",
   "execution_count": 24,
   "metadata": {
    "collapsed": false
   },
   "outputs": [
    {
     "data": {
      "text/plain": [
       "True"
      ]
     },
     "execution_count": 24,
     "metadata": {},
     "output_type": "execute_result"
    }
   ],
   "source": [
    "within_800m(40.688896, -73.976435, 40.6873877, -73.9748150)"
   ]
  },
  {
   "cell_type": "code",
   "execution_count": 25,
   "metadata": {
    "collapsed": false
   },
   "outputs": [
    {
     "data": {
      "text/plain": [
       "False"
      ]
     },
     "execution_count": 25,
     "metadata": {},
     "output_type": "execute_result"
    }
   ],
   "source": [
    "within_800m(high_schools.ix[0, 'latitude'], high_schools.ix[0, 'longitude'], \n",
    "            stations_location.ix[0, 'latitude'], stations_location.ix[0, 'longitude'])"
   ]
  }
 ],
 "metadata": {
  "anaconda-cloud": {},
  "kernelspec": {
   "display_name": "Python [default]",
   "language": "python",
   "name": "python3"
  },
  "language_info": {
   "codemirror_mode": {
    "name": "ipython",
    "version": 3
   },
   "file_extension": ".py",
   "mimetype": "text/x-python",
   "name": "python",
   "nbconvert_exporter": "python",
   "pygments_lexer": "ipython3",
   "version": "3.5.2"
  }
 },
 "nbformat": 4,
 "nbformat_minor": 1
}
